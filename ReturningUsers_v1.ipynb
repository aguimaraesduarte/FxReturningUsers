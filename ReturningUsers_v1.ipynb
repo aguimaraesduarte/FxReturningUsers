{
 "cells": [
  {
   "cell_type": "code",
   "execution_count": 1,
   "metadata": {
    "collapsed": false,
    "extensions": {
     "jupyter_dashboards": {
      "version": 1,
      "views": {
       "grid_default": {
        "hidden": true
       },
       "report_default": {
        "hidden": true
       }
      }
     }
    }
   },
   "outputs": [],
   "source": [
    "from datetime import date, timedelta, datetime\n",
    "from pyspark.sql.functions import collect_list, substring\n",
    "from pyspark.sql import Row\n",
    "import pandas as pd\n",
    "import numpy as np\n",
    "import ujson as json\n",
    "import os.path\n",
    "from collections import Counter\n",
    "from matplotlib import pyplot as plt\n",
    "\n",
    "%matplotlib inline"
   ]
  },
  {
   "cell_type": "code",
   "execution_count": 2,
   "metadata": {
    "collapsed": true
   },
   "outputs": [],
   "source": [
    "def int2date(n):\n",
    "    \"\"\"\n",
    "    This function converts a number of days since Jan 1st 1970 <n> to a date.\n",
    "    \"\"\"\n",
    "    try:\n",
    "        return date(1970,1,1)+timedelta(days=n)\n",
    "    except:\n",
    "        return date(1970,1,1)\n",
    "\n",
    "def date2int(d):\n",
    "    \"\"\"\n",
    "    This function converts a date <d> to number of days since Jan 1st 1970.\n",
    "    \"\"\"\n",
    "    try:\n",
    "        return (d-date(1970,1,1)).days\n",
    "    except:\n",
    "        return -1\n",
    "\n",
    "def str2date(s, f=\"%Y%m%d\"):\n",
    "    \"\"\"\n",
    "    This function converts a string <s> in the format <f> to a date.\n",
    "    \"\"\"\n",
    "    try:\n",
    "        return datetime.strptime(s, f).date()\n",
    "    except:\n",
    "        return \"\"\n",
    "\n",
    "TODAY = date.today()                                    # today (date)\n",
    "TODAY_INT = date2int(TODAY)                             # today (days since Jan 1st, 1970)\n",
    "PCD_CUTOUT_START_DATE = date(2010, 1, 1)                # profiles created before this date are removed (date)\n",
    "PCD_CUTOUT_START_INT = date2int(PCD_CUTOUT_START_DATE)  # profiles created before this date are removed (days since Jan 1st, 1970)\n",
    "\n",
    "D0 = date(2016, 9, 15)                                  # date of of analysis (date)\n",
    "D0_INT = date2int(D0)                                   # date of analysis (days since Jan 1st, 1970)\n",
    "\n",
    "T0 = 30                                                 # days of latency\n",
    "D0_T0 = D0 - timedelta(days=T0)                         # date beginning of latency period (date)\n",
    "D0_T0_INT = D0_INT - T0                                 # date beginning of latency period (days since Jan 1st, 1970)\n",
    "\n",
    "T1 = 90                                                 # days to come back\n",
    "D0_T1 = D0 + timedelta(days=T1)                         # date beginning of come back period (date)\n",
    "D0_T1_INT = D0_INT + T1                                 # date beginning of come back period (days since Jan 1st, 1970)"
   ]
  },
  {
   "cell_type": "markdown",
   "metadata": {},
   "source": [
    "# First, let's get data from main_summary and some counts"
   ]
  },
  {
   "cell_type": "code",
   "execution_count": 3,
   "metadata": {
    "collapsed": false,
    "scrolled": true
   },
   "outputs": [],
   "source": [
    "allPingsDF = sqlContext.read.load(\"s3://telemetry-parquet/main_summary/v3\", \"parquet\", mergeSchema=True)\n",
    "    \n",
    "# perform variable selection with column renaming\n",
    "allPingsDFSelect = allPingsDF.select(\n",
    "           allPingsDF.client_id.alias(\"cid\"),\n",
    "           allPingsDF.subsession_start_date.alias(\"ssd\"),\n",
    "           allPingsDF.sample_id.alias(\"sid\"),\n",
    "           allPingsDF.normalized_channel.alias(\"channel\"),\n",
    "           allPingsDF.app_name.alias(\"appname\"),\n",
    "           allPingsDF.subsession_length.alias(\"ssl\"),\n",
    "           allPingsDF.profile_creation_date.alias(\"pcd\")\n",
    ")\n",
    "\n",
    "# - 1% sample (sample_id is 42)\n",
    "# - channel is release\n",
    "# - application is Firefox\n",
    "# - subsession length is positive and less than 24h\n",
    "# - profile creation date is after Jan 1st, 2010 and before TODAY\n",
    "filteredPingsDF = allPingsDFSelect.filter(allPingsDFSelect.sid == \"42\")\\\n",
    "                                  .filter(allPingsDFSelect.channel == \"release\")\\\n",
    "                                  .filter(allPingsDFSelect.appname == \"Firefox\")\\\n",
    "                                  .filter(allPingsDFSelect.ssl >= 0)\\\n",
    "                                  .filter(allPingsDFSelect.ssl <= 86400)\\\n",
    "                                  .filter(allPingsDFSelect.pcd >= PCD_CUTOUT_START_INT)\\\n",
    "                                  .filter(allPingsDFSelect.pcd <= TODAY_INT)\\\n",
    "                                  .select([\"cid\",\n",
    "                                           substring(\"ssd\", 0, 10).alias(\"ssd\")\n",
    "                                          ])\\\n",
    "                                  .cache()\n",
    "\n",
    "filteredPingsDF_str = \"filteredPingsDF\"\n",
    "sqlContext.registerDataFrameAsTable(filteredPingsDF, filteredPingsDF_str)"
   ]
  },
  {
   "cell_type": "code",
   "execution_count": 4,
   "metadata": {
    "collapsed": false
   },
   "outputs": [
    {
     "name": "stdout",
     "output_type": "stream",
     "text": [
      "1,276,916,123 total pings\n"
     ]
    }
   ],
   "source": [
    "print \"{:,} total pings\".format(filteredPingsDF.count()) # ~1.3B pings"
   ]
  },
  {
   "cell_type": "code",
   "execution_count": 5,
   "metadata": {
    "collapsed": false,
    "scrolled": true
   },
   "outputs": [
    {
     "data": {
      "text/plain": [
       "[Row(cid=u'f2477312-822f-4ff2-bc64-da937cfa65c0', ssd=u'2017-01-11'),\n",
       " Row(cid=u'36a7f893-acbe-4e3f-a143-22072e29003a', ssd=u'2017-01-11'),\n",
       " Row(cid=u'16c632e6-4894-420f-a36e-959becfe1e0a', ssd=u'2017-01-11'),\n",
       " Row(cid=u'bbe11592-0a14-7a44-9378-6da30333c44d', ssd=u'2017-01-12'),\n",
       " Row(cid=u'317519e0-a235-48ac-8a3c-da7c97bc739e', ssd=u'2017-01-11'),\n",
       " Row(cid=u'65711634-f4b2-466a-aeb2-7c11b8d0609f', ssd=u'2017-01-11'),\n",
       " Row(cid=u'317519e0-a235-48ac-8a3c-da7c97bc739e', ssd=u'2017-01-11'),\n",
       " Row(cid=u'208d975e-87dc-4744-adaa-54f0bbb4e4db', ssd=u'2017-01-11'),\n",
       " Row(cid=u'b3ef7ee1-2767-4d9e-9137-e9937fa3be9b', ssd=u'2017-01-11'),\n",
       " Row(cid=u'1dee170b-7978-4c85-81b2-d8718d6acb69', ssd=u'2017-01-11')]"
      ]
     },
     "execution_count": 5,
     "metadata": {},
     "output_type": "execute_result"
    }
   ],
   "source": [
    "filteredPingsDF.take(10)"
   ]
  },
  {
   "cell_type": "code",
   "execution_count": 6,
   "metadata": {
    "collapsed": false
   },
   "outputs": [
    {
     "name": "stdout",
     "output_type": "stream",
     "text": [
      "827,652,700 total users\n"
     ]
    }
   ],
   "source": [
    "print \"{:,} total users\".format(filteredPingsDF.groupBy(\"cid\").count().count()*100) # ~830M users"
   ]
  },
  {
   "cell_type": "markdown",
   "metadata": {},
   "source": [
    "# Now let's aggregate the data by client_id and date for users who were active on D0"
   ]
  },
  {
   "cell_type": "code",
   "execution_count": 7,
   "metadata": {
    "collapsed": true
   },
   "outputs": [],
   "source": [
    "def get_active_on_date(DF_str, date_str):\n",
    "    \"\"\"\n",
    "    This function creates and returns a table that is aggregated by client_id (cid) and subsession_start_date (ssd).\n",
    "    Only client_ids that were active on given date are kept.\n",
    "    For each tuple (cid, sd), the number of subsessions per day is aggregated.\n",
    "    NOTE: This could be changed. For example, we may not need to know that a user was active multiple times per day.\n",
    "    \n",
    "    @params:\n",
    "        DF_str: [string] name of the dataframe returned by aggregate_by_client_date(...)\n",
    "        date_str: [string] date for analysis\n",
    "    \"\"\"\n",
    "    \n",
    "    query = \"\"\"\n",
    "    SELECT cid,\n",
    "           ssd,\n",
    "           count(*) as num_ssd\n",
    "    FROM {table}\n",
    "    WHERE cid IN\n",
    "    (\n",
    "        SELECT distinct cid\n",
    "        FROM {table}\n",
    "        WHERE ssd = '{date}'\n",
    "    )\n",
    "    GROUP BY cid, ssd\n",
    "    \"\"\".format(table=DF_str,\n",
    "               date=date_str)\n",
    "    \n",
    "    active = spark.sql(query).cache()\n",
    "    \n",
    "    return active"
   ]
  },
  {
   "cell_type": "code",
   "execution_count": 8,
   "metadata": {
    "collapsed": false
   },
   "outputs": [],
   "source": [
    "activeDF = get_active_on_date(filteredPingsDF_str, D0.isoformat())\n",
    "activeDF_str = \"activeDF\"\n",
    "sqlContext.registerDataFrameAsTable(activeDF, activeDF_str)"
   ]
  },
  {
   "cell_type": "code",
   "execution_count": 9,
   "metadata": {
    "collapsed": false
   },
   "outputs": [
    {
     "data": {
      "text/plain": [
       "[Row(cid=u'00018e0c-b07f-4097-89cb-5910a95002f2', ssd=u'2016-12-02', num_ssd=4),\n",
       " Row(cid=u'00018e0c-b07f-4097-89cb-5910a95002f2', ssd=u'2016-12-01', num_ssd=5),\n",
       " Row(cid=u'00018e0c-b07f-4097-89cb-5910a95002f2', ssd=u'2016-08-03', num_ssd=13),\n",
       " Row(cid=u'00018e0c-b07f-4097-89cb-5910a95002f2', ssd=u'2016-08-02', num_ssd=13),\n",
       " Row(cid=u'00018e0c-b07f-4097-89cb-5910a95002f2', ssd=u'2016-05-18', num_ssd=12),\n",
       " Row(cid=u'00018e0c-b07f-4097-89cb-5910a95002f2', ssd=u'2016-05-23', num_ssd=8),\n",
       " Row(cid=u'00018e0c-b07f-4097-89cb-5910a95002f2', ssd=u'2017-03-07', num_ssd=9),\n",
       " Row(cid=u'00018e0c-b07f-4097-89cb-5910a95002f2', ssd=u'2017-03-06', num_ssd=8),\n",
       " Row(cid=u'00018e0c-b07f-4097-89cb-5910a95002f2', ssd=u'2016-11-07', num_ssd=2),\n",
       " Row(cid=u'00018e0c-b07f-4097-89cb-5910a95002f2', ssd=u'2016-11-08', num_ssd=3)]"
      ]
     },
     "execution_count": 9,
     "metadata": {},
     "output_type": "execute_result"
    }
   ],
   "source": [
    "activeDF.take(10)"
   ]
  },
  {
   "cell_type": "code",
   "execution_count": 10,
   "metadata": {
    "collapsed": false
   },
   "outputs": [
    {
     "name": "stdout",
     "output_type": "stream",
     "text": [
      "DAU for 2016-09-15: 114,621,800\n"
     ]
    }
   ],
   "source": [
    "dau = activeDF.select(\"cid\").distinct().count()*100\n",
    "print \"DAU for {}: {:,}\".format(D0.isoformat(), dau) # ~110M users"
   ]
  },
  {
   "cell_type": "markdown",
   "metadata": {},
   "source": [
    "# Now let's group by client_id and have a list of activity dates"
   ]
  },
  {
   "cell_type": "code",
   "execution_count": 11,
   "metadata": {
    "collapsed": false
   },
   "outputs": [],
   "source": [
    "# Make a longitudinal data frame where each row has:\n",
    "# - client id\n",
    "# - list of subsession_start_date\n",
    "# - list of number of times profile was active that day (same index for both lists)\n",
    "longitudinal = activeDF.groupBy(\"cid\")\\\n",
    "                       .agg({\"ssd\": \"collect_list\",\n",
    "                             \"num_ssd\": \"collect_list\"})\\\n",
    "                       .withColumnRenamed(\"collect_list(ssd)\",\"ssd\")\\\n",
    "                       .withColumnRenamed(\"collect_list(num_ssd)\", \"num_ssd\")"
   ]
  },
  {
   "cell_type": "code",
   "execution_count": 12,
   "metadata": {
    "collapsed": false
   },
   "outputs": [
    {
     "name": "stdout",
     "output_type": "stream",
     "text": [
      "One client id: 00018e0c-b07f-4097-89cb-5910a95002f2\n",
      "First five ssd for this client id (unordered): [u'2016-12-02', u'2016-12-01', u'2016-08-03', u'2016-08-02', u'2016-05-18']\n",
      "First five num_ssd for this c_id  (unordered): [4, 5, 13, 13, 12]\n"
     ]
    }
   ],
   "source": [
    "t=longitudinal.take(1)[0]\n",
    "print \"One client id: {}\".format(t.cid)\n",
    "print \"First five ssd for this client id (unordered): {}\".format(t.ssd[:5])\n",
    "print \"First five num_ssd for this c_id  (unordered): {}\".format(t.num_ssd[:5])"
   ]
  },
  {
   "cell_type": "code",
   "execution_count": 13,
   "metadata": {
    "collapsed": false
   },
   "outputs": [
    {
     "data": {
      "text/plain": [
       "[Row(cid=u'00018e0c-b07f-4097-89cb-5910a95002f2', ssd=u'2016-09-03', num_ssd=18),\n",
       " Row(cid=u'00018e0c-b07f-4097-89cb-5910a95002f2', ssd=u'2016-04-20', num_ssd=13),\n",
       " Row(cid=u'00018e0c-b07f-4097-89cb-5910a95002f2', ssd=u'2016-04-09', num_ssd=6),\n",
       " Row(cid=u'00018e0c-b07f-4097-89cb-5910a95002f2', ssd=u'2016-04-21', num_ssd=9),\n",
       " Row(cid=u'00018e0c-b07f-4097-89cb-5910a95002f2', ssd=u'2016-04-10', num_ssd=6)]"
      ]
     },
     "execution_count": 13,
     "metadata": {},
     "output_type": "execute_result"
    }
   ],
   "source": [
    "# Let's verify that it works\n",
    "# Everything seems OK!\n",
    "query = \"\"\"\n",
    "SELECT cid,\n",
    "       ssd,\n",
    "       count(*) as num_ssd\n",
    "FROM {table}\n",
    "WHERE cid = '00018e0c-b07f-4097-89cb-5910a95002f2'\n",
    "AND ssd IN ('2016-04-20', '2016-04-21', '2016-09-03', '2016-04-10', '2016-04-09')\n",
    "GROUP BY cid, ssd\n",
    "\"\"\".format(table=filteredPingsDF_str)\n",
    "\n",
    "spark.sql(query).collect()"
   ]
  },
  {
   "cell_type": "markdown",
   "metadata": {},
   "source": [
    "# Let's figure out the time since last activity (tsla) and time until next activity (tuna) for each user"
   ]
  },
  {
   "cell_type": "code",
   "execution_count": 14,
   "metadata": {
    "collapsed": false
   },
   "outputs": [],
   "source": [
    "def mapping(row):\n",
    "    \"\"\"\n",
    "    Applied to an RDD, this mapping function returns a tuple of 5 elements:\n",
    "        - cid\n",
    "        - ssd (sorted ascending through time)\n",
    "        - num_ssd (sorted according to ssd)\n",
    "        - tsla (time since last activity in days)\n",
    "        - tuna (time until next activity in days)\n",
    "    \n",
    "    @params:\n",
    "        row: [Row] a row from a longitudinal RDD that includes:\n",
    "            - cid: client_id\n",
    "            - ssd: subsession_start_date\n",
    "    \n",
    "    @logic:\n",
    "        - sort the row based on ssd (ascending).\n",
    "        - if there was activity prior to D0, get tsla\n",
    "        - if there was activity after D0, get tuna\n",
    "            - if not, those are set to -1\n",
    "            - in case of badly formatted ssd, return -2\n",
    "    \"\"\"\n",
    "    \n",
    "    def sort_row(row):\n",
    "        # sort ssd by ascending ssd\n",
    "        zipped = sorted(zip(row.ssd, row.num_ssd), reverse=False)\n",
    "        ssd, num_ssd = zip(*zipped)\n",
    "        \n",
    "        # return reformatted Row\n",
    "        return Row(cid=row.cid,\n",
    "                   ssd=list(ssd),\n",
    "                   num_ssd=list(num_ssd)\n",
    "                  )\n",
    "    \n",
    "    tsla = -1                        # time since last activity (days)\n",
    "    tuna = -1                        # time until next activity (days)\n",
    "    \n",
    "    sorted_row = sort_row(row)      # sorted row\n",
    "    \n",
    "    # find index of D0\n",
    "    index_D0 = sorted_row.ssd.index(D0.isoformat())\n",
    "    indices_before_D0 = range(index_D0)\n",
    "    indices_after_D0 = range(index_D0+1, len(sorted_row.ssd))\n",
    "    \n",
    "    # there was activity prior to D0\n",
    "    if len(indices_before_D0) > 0:\n",
    "        try:\n",
    "            last_activity_date = sorted_row.ssd[indices_before_D0[-1]]\n",
    "            tsla = (D0 - datetime.strptime(last_activity_date, '%Y-%m-%d').date()).days\n",
    "        except:\n",
    "            # error in date format\n",
    "            tsla = -2\n",
    "    # maybe else check if num_ssd > 1 (active on same day), then tsla = 0?\n",
    "    \n",
    "    # there was activity after D0\n",
    "    if len(indices_after_D0) > 0:\n",
    "        try:\n",
    "            next_activity_date = sorted_row.ssd[indices_after_D0[0]]\n",
    "            tuna = (datetime.strptime(next_activity_date, '%Y-%m-%d').date() - D0).days\n",
    "        except:\n",
    "            # error in date format\n",
    "            tuna = -2\n",
    "    # maybe else check if num_ssd > 1 (active on same day), then tuna = 0?\n",
    "\n",
    "    return (sorted_row.cid,              # cid\n",
    "            sorted_row.ssd,              # list of ssd (ascending)\n",
    "            sorted_row.num_ssd,          # list of num_ssd (based on ssd)\n",
    "            tsla,                        # time since last activity (days)\n",
    "            tuna,                        # time until next activity (days)\n",
    "           )"
   ]
  },
  {
   "cell_type": "code",
   "execution_count": 15,
   "metadata": {
    "collapsed": true
   },
   "outputs": [],
   "source": [
    "mapped = longitudinal.rdd.map(mapping)"
   ]
  },
  {
   "cell_type": "code",
   "execution_count": 16,
   "metadata": {
    "collapsed": false,
    "scrolled": true
   },
   "outputs": [],
   "source": [
    "# mapped.first()"
   ]
  },
  {
   "cell_type": "markdown",
   "metadata": {},
   "source": [
    "# Before answering the questions, let's first see some counts of users who were not active before D0, after D0, or both"
   ]
  },
  {
   "cell_type": "code",
   "execution_count": 17,
   "metadata": {
    "collapsed": false
   },
   "outputs": [
    {
     "name": "stdout",
     "output_type": "stream",
     "text": [
      "DAU for 2016-09-15: 114,621,800\n"
     ]
    }
   ],
   "source": [
    "# Reminder of DAU\n",
    "print \"DAU for {}: {:,}\".format(D0.isoformat(), dau)"
   ]
  },
  {
   "cell_type": "code",
   "execution_count": 18,
   "metadata": {
    "collapsed": false
   },
   "outputs": [],
   "source": [
    "# Negative tsla <=> not active before D0\n",
    "tsla_neg = mapped.filter(lambda row: row[3] < 0)\n",
    "# tsla_neg_DF = tsla_neg.toDF([\"cid\",\"ssd\",\"num_ssd\",\"tsla\",\"tuna\"])\n",
    "# tsla_neg_pd = tsla_neg_DF.toPandas()"
   ]
  },
  {
   "cell_type": "code",
   "execution_count": 19,
   "metadata": {
    "collapsed": false,
    "scrolled": true
   },
   "outputs": [
    {
     "name": "stdout",
     "output_type": "stream",
     "text": [
      "1,903,200 users have no activity before 2016-09-15 (1.66% of DAU)\n"
     ]
    }
   ],
   "source": [
    "tsla_neg_cnt = tsla_neg.count()*100\n",
    "print \"{:,} users have no activity before {} ({:.2%} of DAU)\"\\\n",
    "      .format(tsla_neg_cnt, D0.isoformat(), tsla_neg_cnt*1./dau)"
   ]
  },
  {
   "cell_type": "code",
   "execution_count": 20,
   "metadata": {
    "collapsed": true
   },
   "outputs": [],
   "source": [
    "# Negative tuna <=> not active after D0\n",
    "tuna_neg = mapped.filter(lambda row: row[4] < 0)\n",
    "# tuna_neg_DF = tuna_neg.toDF([\"cid\",\"ssd\",\"num_ssd\",\"tsla\",\"tuna\"])\n",
    "# tuna_neg_pd = tuna_neg_DF.toPandas()"
   ]
  },
  {
   "cell_type": "code",
   "execution_count": 21,
   "metadata": {
    "collapsed": false,
    "scrolled": true
   },
   "outputs": [
    {
     "name": "stdout",
     "output_type": "stream",
     "text": [
      "1,868,000 users have no activity after 2016-09-15 (1.63% of DAU)\n"
     ]
    }
   ],
   "source": [
    "tuna_neg_cnt = tuna_neg.count()*100\n",
    "print \"{:,} users have no activity after {} ({:.2%} of DAU)\"\\\n",
    "      .format(tuna_neg_cnt, D0.isoformat(), tuna_neg_cnt*1./dau)"
   ]
  },
  {
   "cell_type": "code",
   "execution_count": 22,
   "metadata": {
    "collapsed": false
   },
   "outputs": [],
   "source": [
    "# Negative tsla and tuna <=> only active on D0\n",
    "tsla_tuna_neg = mapped.filter(lambda row: (row[3] < 0 and row[4] < 0))\n",
    "# tsla_tuna_neg_DF = tsla_tuna_neg.toDF([\"cid\",\"ssd\",\"num_ssd\",\"tsla\",\"tuna\"])\n",
    "# tsla_tuna_neg_pd = tsla_tuna_neg_DF.toPandas()"
   ]
  },
  {
   "cell_type": "code",
   "execution_count": 23,
   "metadata": {
    "collapsed": false,
    "scrolled": true
   },
   "outputs": [
    {
     "name": "stdout",
     "output_type": "stream",
     "text": [
      "824,400 users were only active on 2016-09-15 (0.72% of DAU)\n"
     ]
    }
   ],
   "source": [
    "tsla_tuna_neg_cnt = tsla_tuna_neg.count()*100\n",
    "print \"{:,} users were only active on {} ({:.2%} of DAU)\"\\\n",
    "      .format(tsla_tuna_neg_cnt, D0.isoformat(), tsla_tuna_neg_cnt*1./dau)"
   ]
  },
  {
   "cell_type": "code",
   "execution_count": 24,
   "metadata": {
    "collapsed": true
   },
   "outputs": [],
   "source": [
    "# One row has a badly formatted date at some point\n",
    "# We can disregard it (or implement some better error checking at some point)\n",
    "bad_dates = mapped.filter(lambda row: (row[3] == -2 or row[4] == -2))\n",
    "# bad_dates_df = bad_dates.toDF([\"cid\",\"ssd\",\"num_ssd\",\"tsla\",\"tuna\"])\n",
    "# bad_dates_pd = bad_dates_df.toPandas()"
   ]
  },
  {
   "cell_type": "code",
   "execution_count": 25,
   "metadata": {
    "collapsed": false
   },
   "outputs": [
    {
     "name": "stdout",
     "output_type": "stream",
     "text": [
      "100 users have a bad date format somewhere (0.00% of DAU)\n"
     ]
    }
   ],
   "source": [
    "bad_dates_cnt = bad_dates.count()*100\n",
    "print \"{:,} users have a bad date format somewhere ({:.2%} of DAU)\"\\\n",
    "      .format(bad_dates_cnt, bad_dates_cnt*1./dau)"
   ]
  },
  {
   "cell_type": "markdown",
   "metadata": {},
   "source": [
    "# Now let's answer the questions"
   ]
  },
  {
   "cell_type": "markdown",
   "metadata": {},
   "source": [
    "## tsla > 30 <=> last time user was active was more than 30 days before D0"
   ]
  },
  {
   "cell_type": "code",
   "execution_count": 26,
   "metadata": {
    "collapsed": false
   },
   "outputs": [],
   "source": [
    "# tsla > 30 <=> last time user was active was more than T0 (30) days before D0\n",
    "tsla_30 = mapped.filter(lambda row: row[3] > T0)\n",
    "tsla_30_DF = tsla_30.toDF([\"cid\",\"ssd\",\"num_ssd\",\"tsla\",\"tuna\"])\n",
    "tsla_30_pd = tsla_30_DF.toPandas()"
   ]
  },
  {
   "cell_type": "code",
   "execution_count": 27,
   "metadata": {
    "collapsed": false
   },
   "outputs": [
    {
     "name": "stdout",
     "output_type": "stream",
     "text": [
      "1,442,400 users have tsla > 30 (1.26% of DAU)\n"
     ]
    }
   ],
   "source": [
    "tsla_30_cnt = tsla_30.count()*100\n",
    "print \"{:,} users have tsla > 30 ({:.2%} of DAU)\"\\\n",
    "      .format(tsla_30_cnt, tsla_30_cnt*1./dau)"
   ]
  },
  {
   "cell_type": "code",
   "execution_count": 28,
   "metadata": {
    "collapsed": false,
    "scrolled": true
   },
   "outputs": [],
   "source": [
    "# tsla_30_pd"
   ]
  },
  {
   "cell_type": "code",
   "execution_count": 29,
   "metadata": {
    "collapsed": false
   },
   "outputs": [
    {
     "data": {
      "text/plain": [
       "<matplotlib.axes._subplots.AxesSubplot at 0x7f6353cafb90>"
      ]
     },
     "execution_count": 29,
     "metadata": {},
     "output_type": "execute_result"
    },
    {
     "data": {
      "image/png": "[encoded data removed]",
      "text/plain": [
       "<matplotlib.figure.Figure at 0x7f6353cf4b50>"
      ]
     },
     "metadata": {},
     "output_type": "display_data"
    }
   ],
   "source": [
    "# distribution of tsla *given* tsla > 30\n",
    "# Note: clipped at 180\n",
    "# Note: seasonality corresponds to weekday and weekend effect\n",
    "tsla_30_pd.tsla.hist(bins=range(T0, 180, 1), normed=1)"
   ]
  },
  {
   "cell_type": "markdown",
   "metadata": {},
   "source": [
    "## 0 < tuna < 90 <=> next time user was active was up to 90 days after D0\n",
    "(This is killing the kernel for some reason. But it should work)"
   ]
  },
  {
   "cell_type": "code",
   "execution_count": null,
   "metadata": {
    "collapsed": false
   },
   "outputs": [],
   "source": [
    "# tuna > 0 <=> next time user was active after D0\n",
    "tuna_90 = mapped.filter(lambda row: (row[4] > 0 and row[4] <= T1))\n",
    "tuna_90_DF = tuna_90.toDF([\"cid\",\"ssd\",\"num_ssd\",\"tsla\",\"tuna\"])\n",
    "tuna_90_pd = tuna_90_DF.toPandas()"
   ]
  },
  {
   "cell_type": "code",
   "execution_count": null,
   "metadata": {
    "collapsed": true
   },
   "outputs": [],
   "source": [
    "tuna_pos_cnt = tuna_pos.count()*100\n",
    "print \"{:,} users have 0 < tuna < 90 ({:.2%} of DAU)\"\\\n",
    "      .format(tuna_pos_cnt, tuna_pos_cnt*1./dau)"
   ]
  },
  {
   "cell_type": "code",
   "execution_count": null,
   "metadata": {
    "collapsed": true
   },
   "outputs": [],
   "source": [
    "# tuna_pos_pd"
   ]
  },
  {
   "cell_type": "code",
   "execution_count": null,
   "metadata": {
    "collapsed": true
   },
   "outputs": [],
   "source": [
    "90# distribution of tuna *given* tuna > 0 (they come back)\n",
    "# Note: clipped at 180\n",
    "# Note: seasonality corresponds to weekday and weekend effect\n",
    "tuna_90_pd.tuna.hist(bins=range(0, T1, 1), normed=1)"
   ]
  }
 ],
 "metadata": {
  "anaconda-cloud": {},
  "extensions": {
   "jupyter_dashboards": {
    "activeView": "grid_default",
    "version": 1,
    "views": {
     "grid_default": {
      "cellMargin": 10,
      "defaultCellHeight": 20,
      "maxColumns": 12,
      "name": "grid",
      "type": "grid"
     },
     "report_default": {
      "name": "report",
      "type": "report"
     }
    }
   }
  },
  "kernelspec": {
   "display_name": "Python [default]",
   "language": "python",
   "name": "python2"
  },
  "language_info": {
   "codemirror_mode": {
    "name": "ipython",
    "version": 2
   },
   "file_extension": ".py",
   "mimetype": "text/x-python",
   "name": "python",
   "nbconvert_exporter": "python",
   "pygments_lexer": "ipython2",
   "version": "2.7.12"
  }
 },
 "nbformat": 4,
 "nbformat_minor": 1
}
